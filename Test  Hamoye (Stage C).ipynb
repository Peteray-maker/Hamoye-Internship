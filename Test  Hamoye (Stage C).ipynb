{
 "cells": [
  {
   "cell_type": "code",
   "execution_count": 1,
   "metadata": {},
   "outputs": [],
   "source": [
    "import numpy as np\n",
    "import pandas as pd"
   ]
  },
  {
   "cell_type": "code",
   "execution_count": 2,
   "metadata": {},
   "outputs": [],
   "source": [
    "df = pd.read_csv('Data_for_UCI_named.csv')"
   ]
  },
  {
   "cell_type": "code",
   "execution_count": 3,
   "metadata": {},
   "outputs": [
    {
     "data": {
      "text/html": [
       "<div>\n",
       "<style scoped>\n",
       "    .dataframe tbody tr th:only-of-type {\n",
       "        vertical-align: middle;\n",
       "    }\n",
       "\n",
       "    .dataframe tbody tr th {\n",
       "        vertical-align: top;\n",
       "    }\n",
       "\n",
       "    .dataframe thead th {\n",
       "        text-align: right;\n",
       "    }\n",
       "</style>\n",
       "<table border=\"1\" class=\"dataframe\">\n",
       "  <thead>\n",
       "    <tr style=\"text-align: right;\">\n",
       "      <th></th>\n",
       "      <th>0</th>\n",
       "      <th>1</th>\n",
       "      <th>2</th>\n",
       "      <th>3</th>\n",
       "      <th>4</th>\n",
       "    </tr>\n",
       "  </thead>\n",
       "  <tbody>\n",
       "    <tr>\n",
       "      <th>tau1</th>\n",
       "      <td>2.95906</td>\n",
       "      <td>9.3041</td>\n",
       "      <td>8.97171</td>\n",
       "      <td>0.716415</td>\n",
       "      <td>3.13411</td>\n",
       "    </tr>\n",
       "    <tr>\n",
       "      <th>tau2</th>\n",
       "      <td>3.07989</td>\n",
       "      <td>4.90252</td>\n",
       "      <td>8.84843</td>\n",
       "      <td>7.6696</td>\n",
       "      <td>7.60877</td>\n",
       "    </tr>\n",
       "    <tr>\n",
       "      <th>tau3</th>\n",
       "      <td>8.38103</td>\n",
       "      <td>3.04754</td>\n",
       "      <td>3.04648</td>\n",
       "      <td>4.48664</td>\n",
       "      <td>4.94376</td>\n",
       "    </tr>\n",
       "    <tr>\n",
       "      <th>tau4</th>\n",
       "      <td>9.78075</td>\n",
       "      <td>1.36936</td>\n",
       "      <td>1.21452</td>\n",
       "      <td>2.34056</td>\n",
       "      <td>9.85757</td>\n",
       "    </tr>\n",
       "    <tr>\n",
       "      <th>p1</th>\n",
       "      <td>3.76308</td>\n",
       "      <td>5.06781</td>\n",
       "      <td>3.40516</td>\n",
       "      <td>3.96379</td>\n",
       "      <td>3.52581</td>\n",
       "    </tr>\n",
       "    <tr>\n",
       "      <th>p2</th>\n",
       "      <td>-0.782604</td>\n",
       "      <td>-1.94006</td>\n",
       "      <td>-1.20746</td>\n",
       "      <td>-1.02747</td>\n",
       "      <td>-1.12553</td>\n",
       "    </tr>\n",
       "    <tr>\n",
       "      <th>p3</th>\n",
       "      <td>-1.25739</td>\n",
       "      <td>-1.87274</td>\n",
       "      <td>-1.27721</td>\n",
       "      <td>-1.93894</td>\n",
       "      <td>-1.84597</td>\n",
       "    </tr>\n",
       "    <tr>\n",
       "      <th>p4</th>\n",
       "      <td>-1.72309</td>\n",
       "      <td>-1.25501</td>\n",
       "      <td>-0.920492</td>\n",
       "      <td>-0.997374</td>\n",
       "      <td>-0.554305</td>\n",
       "    </tr>\n",
       "    <tr>\n",
       "      <th>g1</th>\n",
       "      <td>0.650456</td>\n",
       "      <td>0.413441</td>\n",
       "      <td>0.163041</td>\n",
       "      <td>0.446209</td>\n",
       "      <td>0.79711</td>\n",
       "    </tr>\n",
       "    <tr>\n",
       "      <th>g2</th>\n",
       "      <td>0.859578</td>\n",
       "      <td>0.862414</td>\n",
       "      <td>0.766689</td>\n",
       "      <td>0.976744</td>\n",
       "      <td>0.45545</td>\n",
       "    </tr>\n",
       "    <tr>\n",
       "      <th>g3</th>\n",
       "      <td>0.887445</td>\n",
       "      <td>0.562139</td>\n",
       "      <td>0.839444</td>\n",
       "      <td>0.929381</td>\n",
       "      <td>0.656947</td>\n",
       "    </tr>\n",
       "    <tr>\n",
       "      <th>g4</th>\n",
       "      <td>0.958034</td>\n",
       "      <td>0.78176</td>\n",
       "      <td>0.109853</td>\n",
       "      <td>0.362718</td>\n",
       "      <td>0.820923</td>\n",
       "    </tr>\n",
       "    <tr>\n",
       "      <th>stab</th>\n",
       "      <td>0.0553475</td>\n",
       "      <td>-0.00595746</td>\n",
       "      <td>0.00347088</td>\n",
       "      <td>0.0288705</td>\n",
       "      <td>0.0498604</td>\n",
       "    </tr>\n",
       "    <tr>\n",
       "      <th>stabf</th>\n",
       "      <td>unstable</td>\n",
       "      <td>stable</td>\n",
       "      <td>unstable</td>\n",
       "      <td>unstable</td>\n",
       "      <td>unstable</td>\n",
       "    </tr>\n",
       "  </tbody>\n",
       "</table>\n",
       "</div>"
      ],
      "text/plain": [
       "               0           1           2          3          4\n",
       "tau1     2.95906      9.3041     8.97171   0.716415    3.13411\n",
       "tau2     3.07989     4.90252     8.84843     7.6696    7.60877\n",
       "tau3     8.38103     3.04754     3.04648    4.48664    4.94376\n",
       "tau4     9.78075     1.36936     1.21452    2.34056    9.85757\n",
       "p1       3.76308     5.06781     3.40516    3.96379    3.52581\n",
       "p2     -0.782604    -1.94006    -1.20746   -1.02747   -1.12553\n",
       "p3      -1.25739    -1.87274    -1.27721   -1.93894   -1.84597\n",
       "p4      -1.72309    -1.25501   -0.920492  -0.997374  -0.554305\n",
       "g1      0.650456    0.413441    0.163041   0.446209    0.79711\n",
       "g2      0.859578    0.862414    0.766689   0.976744    0.45545\n",
       "g3      0.887445    0.562139    0.839444   0.929381   0.656947\n",
       "g4      0.958034     0.78176    0.109853   0.362718   0.820923\n",
       "stab   0.0553475 -0.00595746  0.00347088  0.0288705  0.0498604\n",
       "stabf   unstable      stable    unstable   unstable   unstable"
      ]
     },
     "execution_count": 3,
     "metadata": {},
     "output_type": "execute_result"
    }
   ],
   "source": [
    "df.head().transpose()"
   ]
  },
  {
   "cell_type": "code",
   "execution_count": 4,
   "metadata": {},
   "outputs": [
    {
     "data": {
      "text/plain": [
       "tau1     0\n",
       "tau2     0\n",
       "tau3     0\n",
       "tau4     0\n",
       "p1       0\n",
       "p2       0\n",
       "p3       0\n",
       "p4       0\n",
       "g1       0\n",
       "g2       0\n",
       "g3       0\n",
       "g4       0\n",
       "stab     0\n",
       "stabf    0\n",
       "dtype: int64"
      ]
     },
     "execution_count": 4,
     "metadata": {},
     "output_type": "execute_result"
    }
   ],
   "source": [
    "df.isnull().sum()"
   ]
  },
  {
   "cell_type": "code",
   "execution_count": 5,
   "metadata": {},
   "outputs": [],
   "source": [
    "df = df.drop('stab', axis=1)"
   ]
  },
  {
   "cell_type": "code",
   "execution_count": 6,
   "metadata": {},
   "outputs": [
    {
     "data": {
      "text/html": [
       "<div>\n",
       "<style scoped>\n",
       "    .dataframe tbody tr th:only-of-type {\n",
       "        vertical-align: middle;\n",
       "    }\n",
       "\n",
       "    .dataframe tbody tr th {\n",
       "        vertical-align: top;\n",
       "    }\n",
       "\n",
       "    .dataframe thead th {\n",
       "        text-align: right;\n",
       "    }\n",
       "</style>\n",
       "<table border=\"1\" class=\"dataframe\">\n",
       "  <thead>\n",
       "    <tr style=\"text-align: right;\">\n",
       "      <th></th>\n",
       "      <th>tau1</th>\n",
       "      <th>tau2</th>\n",
       "      <th>tau3</th>\n",
       "      <th>tau4</th>\n",
       "      <th>p1</th>\n",
       "      <th>p2</th>\n",
       "      <th>p3</th>\n",
       "      <th>p4</th>\n",
       "      <th>g1</th>\n",
       "      <th>g2</th>\n",
       "      <th>g3</th>\n",
       "      <th>g4</th>\n",
       "      <th>stabf</th>\n",
       "    </tr>\n",
       "  </thead>\n",
       "  <tbody>\n",
       "    <tr>\n",
       "      <th>0</th>\n",
       "      <td>2.959060</td>\n",
       "      <td>3.079885</td>\n",
       "      <td>8.381025</td>\n",
       "      <td>9.780754</td>\n",
       "      <td>3.763085</td>\n",
       "      <td>-0.782604</td>\n",
       "      <td>-1.257395</td>\n",
       "      <td>-1.723086</td>\n",
       "      <td>0.650456</td>\n",
       "      <td>0.859578</td>\n",
       "      <td>0.887445</td>\n",
       "      <td>0.958034</td>\n",
       "      <td>unstable</td>\n",
       "    </tr>\n",
       "    <tr>\n",
       "      <th>1</th>\n",
       "      <td>9.304097</td>\n",
       "      <td>4.902524</td>\n",
       "      <td>3.047541</td>\n",
       "      <td>1.369357</td>\n",
       "      <td>5.067812</td>\n",
       "      <td>-1.940058</td>\n",
       "      <td>-1.872742</td>\n",
       "      <td>-1.255012</td>\n",
       "      <td>0.413441</td>\n",
       "      <td>0.862414</td>\n",
       "      <td>0.562139</td>\n",
       "      <td>0.781760</td>\n",
       "      <td>stable</td>\n",
       "    </tr>\n",
       "    <tr>\n",
       "      <th>2</th>\n",
       "      <td>8.971707</td>\n",
       "      <td>8.848428</td>\n",
       "      <td>3.046479</td>\n",
       "      <td>1.214518</td>\n",
       "      <td>3.405158</td>\n",
       "      <td>-1.207456</td>\n",
       "      <td>-1.277210</td>\n",
       "      <td>-0.920492</td>\n",
       "      <td>0.163041</td>\n",
       "      <td>0.766689</td>\n",
       "      <td>0.839444</td>\n",
       "      <td>0.109853</td>\n",
       "      <td>unstable</td>\n",
       "    </tr>\n",
       "    <tr>\n",
       "      <th>3</th>\n",
       "      <td>0.716415</td>\n",
       "      <td>7.669600</td>\n",
       "      <td>4.486641</td>\n",
       "      <td>2.340563</td>\n",
       "      <td>3.963791</td>\n",
       "      <td>-1.027473</td>\n",
       "      <td>-1.938944</td>\n",
       "      <td>-0.997374</td>\n",
       "      <td>0.446209</td>\n",
       "      <td>0.976744</td>\n",
       "      <td>0.929381</td>\n",
       "      <td>0.362718</td>\n",
       "      <td>unstable</td>\n",
       "    </tr>\n",
       "    <tr>\n",
       "      <th>4</th>\n",
       "      <td>3.134112</td>\n",
       "      <td>7.608772</td>\n",
       "      <td>4.943759</td>\n",
       "      <td>9.857573</td>\n",
       "      <td>3.525811</td>\n",
       "      <td>-1.125531</td>\n",
       "      <td>-1.845975</td>\n",
       "      <td>-0.554305</td>\n",
       "      <td>0.797110</td>\n",
       "      <td>0.455450</td>\n",
       "      <td>0.656947</td>\n",
       "      <td>0.820923</td>\n",
       "      <td>unstable</td>\n",
       "    </tr>\n",
       "    <tr>\n",
       "      <th>...</th>\n",
       "      <td>...</td>\n",
       "      <td>...</td>\n",
       "      <td>...</td>\n",
       "      <td>...</td>\n",
       "      <td>...</td>\n",
       "      <td>...</td>\n",
       "      <td>...</td>\n",
       "      <td>...</td>\n",
       "      <td>...</td>\n",
       "      <td>...</td>\n",
       "      <td>...</td>\n",
       "      <td>...</td>\n",
       "      <td>...</td>\n",
       "    </tr>\n",
       "    <tr>\n",
       "      <th>9995</th>\n",
       "      <td>2.930406</td>\n",
       "      <td>9.487627</td>\n",
       "      <td>2.376523</td>\n",
       "      <td>6.187797</td>\n",
       "      <td>3.343416</td>\n",
       "      <td>-0.658054</td>\n",
       "      <td>-1.449106</td>\n",
       "      <td>-1.236256</td>\n",
       "      <td>0.601709</td>\n",
       "      <td>0.779642</td>\n",
       "      <td>0.813512</td>\n",
       "      <td>0.608385</td>\n",
       "      <td>unstable</td>\n",
       "    </tr>\n",
       "    <tr>\n",
       "      <th>9996</th>\n",
       "      <td>3.392299</td>\n",
       "      <td>1.274827</td>\n",
       "      <td>2.954947</td>\n",
       "      <td>6.894759</td>\n",
       "      <td>4.349512</td>\n",
       "      <td>-1.663661</td>\n",
       "      <td>-0.952437</td>\n",
       "      <td>-1.733414</td>\n",
       "      <td>0.502079</td>\n",
       "      <td>0.567242</td>\n",
       "      <td>0.285880</td>\n",
       "      <td>0.366120</td>\n",
       "      <td>stable</td>\n",
       "    </tr>\n",
       "    <tr>\n",
       "      <th>9997</th>\n",
       "      <td>2.364034</td>\n",
       "      <td>2.842030</td>\n",
       "      <td>8.776391</td>\n",
       "      <td>1.008906</td>\n",
       "      <td>4.299976</td>\n",
       "      <td>-1.380719</td>\n",
       "      <td>-0.943884</td>\n",
       "      <td>-1.975373</td>\n",
       "      <td>0.487838</td>\n",
       "      <td>0.986505</td>\n",
       "      <td>0.149286</td>\n",
       "      <td>0.145984</td>\n",
       "      <td>stable</td>\n",
       "    </tr>\n",
       "    <tr>\n",
       "      <th>9998</th>\n",
       "      <td>9.631511</td>\n",
       "      <td>3.994398</td>\n",
       "      <td>2.757071</td>\n",
       "      <td>7.821347</td>\n",
       "      <td>2.514755</td>\n",
       "      <td>-0.966330</td>\n",
       "      <td>-0.649915</td>\n",
       "      <td>-0.898510</td>\n",
       "      <td>0.365246</td>\n",
       "      <td>0.587558</td>\n",
       "      <td>0.889118</td>\n",
       "      <td>0.818391</td>\n",
       "      <td>unstable</td>\n",
       "    </tr>\n",
       "    <tr>\n",
       "      <th>9999</th>\n",
       "      <td>6.530527</td>\n",
       "      <td>6.781790</td>\n",
       "      <td>4.349695</td>\n",
       "      <td>8.673138</td>\n",
       "      <td>3.492807</td>\n",
       "      <td>-1.390285</td>\n",
       "      <td>-1.532193</td>\n",
       "      <td>-0.570329</td>\n",
       "      <td>0.073056</td>\n",
       "      <td>0.505441</td>\n",
       "      <td>0.378761</td>\n",
       "      <td>0.942631</td>\n",
       "      <td>unstable</td>\n",
       "    </tr>\n",
       "  </tbody>\n",
       "</table>\n",
       "<p>10000 rows × 13 columns</p>\n",
       "</div>"
      ],
      "text/plain": [
       "          tau1      tau2      tau3      tau4        p1        p2        p3  \\\n",
       "0     2.959060  3.079885  8.381025  9.780754  3.763085 -0.782604 -1.257395   \n",
       "1     9.304097  4.902524  3.047541  1.369357  5.067812 -1.940058 -1.872742   \n",
       "2     8.971707  8.848428  3.046479  1.214518  3.405158 -1.207456 -1.277210   \n",
       "3     0.716415  7.669600  4.486641  2.340563  3.963791 -1.027473 -1.938944   \n",
       "4     3.134112  7.608772  4.943759  9.857573  3.525811 -1.125531 -1.845975   \n",
       "...        ...       ...       ...       ...       ...       ...       ...   \n",
       "9995  2.930406  9.487627  2.376523  6.187797  3.343416 -0.658054 -1.449106   \n",
       "9996  3.392299  1.274827  2.954947  6.894759  4.349512 -1.663661 -0.952437   \n",
       "9997  2.364034  2.842030  8.776391  1.008906  4.299976 -1.380719 -0.943884   \n",
       "9998  9.631511  3.994398  2.757071  7.821347  2.514755 -0.966330 -0.649915   \n",
       "9999  6.530527  6.781790  4.349695  8.673138  3.492807 -1.390285 -1.532193   \n",
       "\n",
       "            p4        g1        g2        g3        g4     stabf  \n",
       "0    -1.723086  0.650456  0.859578  0.887445  0.958034  unstable  \n",
       "1    -1.255012  0.413441  0.862414  0.562139  0.781760    stable  \n",
       "2    -0.920492  0.163041  0.766689  0.839444  0.109853  unstable  \n",
       "3    -0.997374  0.446209  0.976744  0.929381  0.362718  unstable  \n",
       "4    -0.554305  0.797110  0.455450  0.656947  0.820923  unstable  \n",
       "...        ...       ...       ...       ...       ...       ...  \n",
       "9995 -1.236256  0.601709  0.779642  0.813512  0.608385  unstable  \n",
       "9996 -1.733414  0.502079  0.567242  0.285880  0.366120    stable  \n",
       "9997 -1.975373  0.487838  0.986505  0.149286  0.145984    stable  \n",
       "9998 -0.898510  0.365246  0.587558  0.889118  0.818391  unstable  \n",
       "9999 -0.570329  0.073056  0.505441  0.378761  0.942631  unstable  \n",
       "\n",
       "[10000 rows x 13 columns]"
      ]
     },
     "execution_count": 6,
     "metadata": {},
     "output_type": "execute_result"
    }
   ],
   "source": [
    "df"
   ]
  },
  {
   "cell_type": "code",
   "execution_count": 7,
   "metadata": {
    "scrolled": true
   },
   "outputs": [
    {
     "data": {
      "text/plain": [
       "unstable    6380\n",
       "stable      3620\n",
       "Name: stabf, dtype: int64"
      ]
     },
     "execution_count": 7,
     "metadata": {},
     "output_type": "execute_result"
    }
   ],
   "source": [
    "df['stabf'].value_counts()"
   ]
  },
  {
   "cell_type": "code",
   "execution_count": 8,
   "metadata": {},
   "outputs": [
    {
     "data": {
      "text/html": [
       "<div>\n",
       "<style scoped>\n",
       "    .dataframe tbody tr th:only-of-type {\n",
       "        vertical-align: middle;\n",
       "    }\n",
       "\n",
       "    .dataframe tbody tr th {\n",
       "        vertical-align: top;\n",
       "    }\n",
       "\n",
       "    .dataframe thead th {\n",
       "        text-align: right;\n",
       "    }\n",
       "</style>\n",
       "<table border=\"1\" class=\"dataframe\">\n",
       "  <thead>\n",
       "    <tr style=\"text-align: right;\">\n",
       "      <th></th>\n",
       "      <th>tau1</th>\n",
       "      <th>tau2</th>\n",
       "      <th>tau3</th>\n",
       "      <th>tau4</th>\n",
       "      <th>p1</th>\n",
       "      <th>p2</th>\n",
       "      <th>p3</th>\n",
       "      <th>p4</th>\n",
       "      <th>g1</th>\n",
       "      <th>g2</th>\n",
       "      <th>g3</th>\n",
       "      <th>g4</th>\n",
       "      <th>stabf</th>\n",
       "    </tr>\n",
       "  </thead>\n",
       "  <tbody>\n",
       "    <tr>\n",
       "      <th>1</th>\n",
       "      <td>9.304097</td>\n",
       "      <td>4.902524</td>\n",
       "      <td>3.047541</td>\n",
       "      <td>1.369357</td>\n",
       "      <td>5.067812</td>\n",
       "      <td>-1.940058</td>\n",
       "      <td>-1.872742</td>\n",
       "      <td>-1.255012</td>\n",
       "      <td>0.413441</td>\n",
       "      <td>0.862414</td>\n",
       "      <td>0.562139</td>\n",
       "      <td>0.781760</td>\n",
       "      <td>stable</td>\n",
       "    </tr>\n",
       "    <tr>\n",
       "      <th>5</th>\n",
       "      <td>6.999209</td>\n",
       "      <td>9.109247</td>\n",
       "      <td>3.784066</td>\n",
       "      <td>4.267788</td>\n",
       "      <td>4.429669</td>\n",
       "      <td>-1.857139</td>\n",
       "      <td>-0.670397</td>\n",
       "      <td>-1.902133</td>\n",
       "      <td>0.261793</td>\n",
       "      <td>0.077930</td>\n",
       "      <td>0.542884</td>\n",
       "      <td>0.469931</td>\n",
       "      <td>stable</td>\n",
       "    </tr>\n",
       "    <tr>\n",
       "      <th>8</th>\n",
       "      <td>4.689852</td>\n",
       "      <td>4.007747</td>\n",
       "      <td>1.478573</td>\n",
       "      <td>3.733787</td>\n",
       "      <td>4.041300</td>\n",
       "      <td>-1.410344</td>\n",
       "      <td>-1.238204</td>\n",
       "      <td>-1.392751</td>\n",
       "      <td>0.269708</td>\n",
       "      <td>0.250364</td>\n",
       "      <td>0.164941</td>\n",
       "      <td>0.482439</td>\n",
       "      <td>stable</td>\n",
       "    </tr>\n",
       "    <tr>\n",
       "      <th>10</th>\n",
       "      <td>5.930110</td>\n",
       "      <td>6.730873</td>\n",
       "      <td>6.245138</td>\n",
       "      <td>0.533288</td>\n",
       "      <td>2.327092</td>\n",
       "      <td>-0.702501</td>\n",
       "      <td>-1.116920</td>\n",
       "      <td>-0.507671</td>\n",
       "      <td>0.239816</td>\n",
       "      <td>0.563110</td>\n",
       "      <td>0.164461</td>\n",
       "      <td>0.753701</td>\n",
       "      <td>stable</td>\n",
       "    </tr>\n",
       "    <tr>\n",
       "      <th>12</th>\n",
       "      <td>1.616787</td>\n",
       "      <td>2.939228</td>\n",
       "      <td>0.819791</td>\n",
       "      <td>4.191804</td>\n",
       "      <td>3.752282</td>\n",
       "      <td>-1.484885</td>\n",
       "      <td>-1.280581</td>\n",
       "      <td>-0.986816</td>\n",
       "      <td>0.899698</td>\n",
       "      <td>0.866546</td>\n",
       "      <td>0.303921</td>\n",
       "      <td>0.077610</td>\n",
       "      <td>stable</td>\n",
       "    </tr>\n",
       "    <tr>\n",
       "      <th>...</th>\n",
       "      <td>...</td>\n",
       "      <td>...</td>\n",
       "      <td>...</td>\n",
       "      <td>...</td>\n",
       "      <td>...</td>\n",
       "      <td>...</td>\n",
       "      <td>...</td>\n",
       "      <td>...</td>\n",
       "      <td>...</td>\n",
       "      <td>...</td>\n",
       "      <td>...</td>\n",
       "      <td>...</td>\n",
       "      <td>...</td>\n",
       "    </tr>\n",
       "    <tr>\n",
       "      <th>1269</th>\n",
       "      <td>8.723931</td>\n",
       "      <td>2.447146</td>\n",
       "      <td>5.453310</td>\n",
       "      <td>3.948046</td>\n",
       "      <td>3.222521</td>\n",
       "      <td>-1.632545</td>\n",
       "      <td>-0.956788</td>\n",
       "      <td>-0.633188</td>\n",
       "      <td>0.830457</td>\n",
       "      <td>0.407462</td>\n",
       "      <td>0.603006</td>\n",
       "      <td>0.988075</td>\n",
       "      <td>unstable</td>\n",
       "    </tr>\n",
       "    <tr>\n",
       "      <th>2836</th>\n",
       "      <td>8.560696</td>\n",
       "      <td>3.022054</td>\n",
       "      <td>8.156982</td>\n",
       "      <td>7.758487</td>\n",
       "      <td>3.372537</td>\n",
       "      <td>-0.574802</td>\n",
       "      <td>-0.887459</td>\n",
       "      <td>-1.910276</td>\n",
       "      <td>0.982835</td>\n",
       "      <td>0.131136</td>\n",
       "      <td>0.377479</td>\n",
       "      <td>0.650131</td>\n",
       "      <td>unstable</td>\n",
       "    </tr>\n",
       "    <tr>\n",
       "      <th>9231</th>\n",
       "      <td>6.423073</td>\n",
       "      <td>3.012614</td>\n",
       "      <td>1.480152</td>\n",
       "      <td>6.299742</td>\n",
       "      <td>4.113345</td>\n",
       "      <td>-1.452437</td>\n",
       "      <td>-0.786838</td>\n",
       "      <td>-1.874070</td>\n",
       "      <td>0.233710</td>\n",
       "      <td>0.998986</td>\n",
       "      <td>0.421595</td>\n",
       "      <td>0.741616</td>\n",
       "      <td>unstable</td>\n",
       "    </tr>\n",
       "    <tr>\n",
       "      <th>8143</th>\n",
       "      <td>7.865923</td>\n",
       "      <td>3.781793</td>\n",
       "      <td>1.810704</td>\n",
       "      <td>4.258561</td>\n",
       "      <td>3.073474</td>\n",
       "      <td>-1.191169</td>\n",
       "      <td>-1.285819</td>\n",
       "      <td>-0.596485</td>\n",
       "      <td>0.800073</td>\n",
       "      <td>0.571636</td>\n",
       "      <td>0.443753</td>\n",
       "      <td>0.849979</td>\n",
       "      <td>unstable</td>\n",
       "    </tr>\n",
       "    <tr>\n",
       "      <th>1214</th>\n",
       "      <td>2.469464</td>\n",
       "      <td>7.029722</td>\n",
       "      <td>3.692993</td>\n",
       "      <td>3.754427</td>\n",
       "      <td>4.397542</td>\n",
       "      <td>-1.950379</td>\n",
       "      <td>-0.575730</td>\n",
       "      <td>-1.871433</td>\n",
       "      <td>0.608002</td>\n",
       "      <td>0.096180</td>\n",
       "      <td>0.946413</td>\n",
       "      <td>0.890427</td>\n",
       "      <td>unstable</td>\n",
       "    </tr>\n",
       "  </tbody>\n",
       "</table>\n",
       "<p>7240 rows × 13 columns</p>\n",
       "</div>"
      ],
      "text/plain": [
       "          tau1      tau2      tau3      tau4        p1        p2        p3  \\\n",
       "1     9.304097  4.902524  3.047541  1.369357  5.067812 -1.940058 -1.872742   \n",
       "5     6.999209  9.109247  3.784066  4.267788  4.429669 -1.857139 -0.670397   \n",
       "8     4.689852  4.007747  1.478573  3.733787  4.041300 -1.410344 -1.238204   \n",
       "10    5.930110  6.730873  6.245138  0.533288  2.327092 -0.702501 -1.116920   \n",
       "12    1.616787  2.939228  0.819791  4.191804  3.752282 -1.484885 -1.280581   \n",
       "...        ...       ...       ...       ...       ...       ...       ...   \n",
       "1269  8.723931  2.447146  5.453310  3.948046  3.222521 -1.632545 -0.956788   \n",
       "2836  8.560696  3.022054  8.156982  7.758487  3.372537 -0.574802 -0.887459   \n",
       "9231  6.423073  3.012614  1.480152  6.299742  4.113345 -1.452437 -0.786838   \n",
       "8143  7.865923  3.781793  1.810704  4.258561  3.073474 -1.191169 -1.285819   \n",
       "1214  2.469464  7.029722  3.692993  3.754427  4.397542 -1.950379 -0.575730   \n",
       "\n",
       "            p4        g1        g2        g3        g4     stabf  \n",
       "1    -1.255012  0.413441  0.862414  0.562139  0.781760    stable  \n",
       "5    -1.902133  0.261793  0.077930  0.542884  0.469931    stable  \n",
       "8    -1.392751  0.269708  0.250364  0.164941  0.482439    stable  \n",
       "10   -0.507671  0.239816  0.563110  0.164461  0.753701    stable  \n",
       "12   -0.986816  0.899698  0.866546  0.303921  0.077610    stable  \n",
       "...        ...       ...       ...       ...       ...       ...  \n",
       "1269 -0.633188  0.830457  0.407462  0.603006  0.988075  unstable  \n",
       "2836 -1.910276  0.982835  0.131136  0.377479  0.650131  unstable  \n",
       "9231 -1.874070  0.233710  0.998986  0.421595  0.741616  unstable  \n",
       "8143 -0.596485  0.800073  0.571636  0.443753  0.849979  unstable  \n",
       "1214 -1.871433  0.608002  0.096180  0.946413  0.890427  unstable  \n",
       "\n",
       "[7240 rows x 13 columns]"
      ]
     },
     "execution_count": 8,
     "metadata": {},
     "output_type": "execute_result"
    }
   ],
   "source": [
    "df_unstab = df[df['stabf']== 'unstable'].sample(3620)\n",
    "df_stab = df[df['stabf']=='stable']\n",
    "data_df= df_stab.append(df_unstab)\n",
    "data_df "
   ]
  },
  {
   "cell_type": "code",
   "execution_count": 35,
   "metadata": {
    "scrolled": true
   },
   "outputs": [
    {
     "data": {
      "text/plain": [
       "<matplotlib.axes._subplots.AxesSubplot at 0x2c288d17a88>"
      ]
     },
     "execution_count": 35,
     "metadata": {},
     "output_type": "execute_result"
    },
    {
     "data": {
      "image/png": "[encoded data removed]",
      "text/plain": [
       "<Figure size 432x288 with 2 Axes>"
      ]
     },
     "metadata": {
      "needs_background": "light"
     },
     "output_type": "display_data"
    }
   ],
   "source": [
    "import seaborn as sns\n",
    "sns.heatmap(cm)"
   ]
  },
  {
   "cell_type": "code",
   "execution_count": 36,
   "metadata": {},
   "outputs": [
    {
     "data": {
      "text/plain": [
       "<matplotlib.axes._subplots.AxesSubplot at 0x2c28e7b52c8>"
      ]
     },
     "execution_count": 36,
     "metadata": {},
     "output_type": "execute_result"
    },
    {
     "data": {
      "image/png": "[encoded data removed]",
      "text/plain": [
       "<Figure size 432x288 with 2 Axes>"
      ]
     },
     "metadata": {
      "needs_background": "light"
     },
     "output_type": "display_data"
    }
   ],
   "source": [
    "sns.heatmap(cm_1)"
   ]
  },
  {
   "cell_type": "code",
   "execution_count": 10,
   "metadata": {},
   "outputs": [],
   "source": [
    "x = data_df.drop('stabf', axis=1)\n",
    "y = data_df['stabf']"
   ]
  },
  {
   "cell_type": "code",
   "execution_count": 11,
   "metadata": {},
   "outputs": [],
   "source": [
    "from sklearn.model_selection import train_test_split"
   ]
  },
  {
   "cell_type": "code",
   "execution_count": 12,
   "metadata": {},
   "outputs": [],
   "source": [
    "x_train, x_test, y_train, y_test = train_test_split(x, y, test_size = 0.2, random_state=1)"
   ]
  },
  {
   "cell_type": "code",
   "execution_count": 13,
   "metadata": {},
   "outputs": [],
   "source": [
    "from sklearn.preprocessing import StandardScaler\n",
    "scaler = StandardScaler()\n"
   ]
  },
  {
   "cell_type": "code",
   "execution_count": 14,
   "metadata": {},
   "outputs": [],
   "source": [
    "x_normalized_train_df = scaler.fit_transform(x_train) \n",
    "x_normalized_test_df = scaler.fit_transform(x_test)"
   ]
  },
  {
   "cell_type": "code",
   "execution_count": 15,
   "metadata": {},
   "outputs": [
    {
     "data": {
      "text/plain": [
       "stable      2904\n",
       "unstable    2888\n",
       "Name: stabf, dtype: int64"
      ]
     },
     "execution_count": 15,
     "metadata": {},
     "output_type": "execute_result"
    }
   ],
   "source": [
    "y_train.value_counts()"
   ]
  },
  {
   "cell_type": "code",
   "execution_count": 16,
   "metadata": {},
   "outputs": [
    {
     "data": {
      "text/html": [
       "<div>\n",
       "<style scoped>\n",
       "    .dataframe tbody tr th:only-of-type {\n",
       "        vertical-align: middle;\n",
       "    }\n",
       "\n",
       "    .dataframe tbody tr th {\n",
       "        vertical-align: top;\n",
       "    }\n",
       "\n",
       "    .dataframe thead th {\n",
       "        text-align: right;\n",
       "    }\n",
       "</style>\n",
       "<table border=\"1\" class=\"dataframe\">\n",
       "  <thead>\n",
       "    <tr style=\"text-align: right;\">\n",
       "      <th></th>\n",
       "      <th>tau1</th>\n",
       "      <th>tau2</th>\n",
       "      <th>tau3</th>\n",
       "      <th>tau4</th>\n",
       "      <th>p1</th>\n",
       "      <th>p2</th>\n",
       "      <th>p3</th>\n",
       "      <th>p4</th>\n",
       "      <th>g1</th>\n",
       "      <th>g2</th>\n",
       "      <th>g3</th>\n",
       "      <th>g4</th>\n",
       "    </tr>\n",
       "  </thead>\n",
       "  <tbody>\n",
       "    <tr>\n",
       "      <th>4102</th>\n",
       "      <td>9.897265</td>\n",
       "      <td>3.637844</td>\n",
       "      <td>4.290065</td>\n",
       "      <td>8.607478</td>\n",
       "      <td>3.246692</td>\n",
       "      <td>-1.540617</td>\n",
       "      <td>-0.733605</td>\n",
       "      <td>-0.972470</td>\n",
       "      <td>0.514474</td>\n",
       "      <td>0.454052</td>\n",
       "      <td>0.888528</td>\n",
       "      <td>0.577343</td>\n",
       "    </tr>\n",
       "    <tr>\n",
       "      <th>3474</th>\n",
       "      <td>2.070262</td>\n",
       "      <td>8.889857</td>\n",
       "      <td>0.763238</td>\n",
       "      <td>3.996454</td>\n",
       "      <td>4.445607</td>\n",
       "      <td>-1.543882</td>\n",
       "      <td>-1.291089</td>\n",
       "      <td>-1.610636</td>\n",
       "      <td>0.712355</td>\n",
       "      <td>0.741182</td>\n",
       "      <td>0.259698</td>\n",
       "      <td>0.534352</td>\n",
       "    </tr>\n",
       "    <tr>\n",
       "      <th>3725</th>\n",
       "      <td>9.693446</td>\n",
       "      <td>1.066761</td>\n",
       "      <td>2.037479</td>\n",
       "      <td>6.998890</td>\n",
       "      <td>2.513678</td>\n",
       "      <td>-0.619724</td>\n",
       "      <td>-0.502285</td>\n",
       "      <td>-1.391670</td>\n",
       "      <td>0.873912</td>\n",
       "      <td>0.692020</td>\n",
       "      <td>0.629985</td>\n",
       "      <td>0.347777</td>\n",
       "    </tr>\n",
       "    <tr>\n",
       "      <th>8591</th>\n",
       "      <td>1.070637</td>\n",
       "      <td>2.745811</td>\n",
       "      <td>6.046178</td>\n",
       "      <td>5.416654</td>\n",
       "      <td>4.823958</td>\n",
       "      <td>-1.867970</td>\n",
       "      <td>-1.373601</td>\n",
       "      <td>-1.582387</td>\n",
       "      <td>0.817517</td>\n",
       "      <td>0.340912</td>\n",
       "      <td>0.521898</td>\n",
       "      <td>0.120164</td>\n",
       "    </tr>\n",
       "    <tr>\n",
       "      <th>8230</th>\n",
       "      <td>3.245934</td>\n",
       "      <td>8.360463</td>\n",
       "      <td>4.398206</td>\n",
       "      <td>9.632935</td>\n",
       "      <td>3.315526</td>\n",
       "      <td>-0.730478</td>\n",
       "      <td>-0.797694</td>\n",
       "      <td>-1.787354</td>\n",
       "      <td>0.540724</td>\n",
       "      <td>0.485303</td>\n",
       "      <td>0.232032</td>\n",
       "      <td>0.413867</td>\n",
       "    </tr>\n",
       "    <tr>\n",
       "      <th>...</th>\n",
       "      <td>...</td>\n",
       "      <td>...</td>\n",
       "      <td>...</td>\n",
       "      <td>...</td>\n",
       "      <td>...</td>\n",
       "      <td>...</td>\n",
       "      <td>...</td>\n",
       "      <td>...</td>\n",
       "      <td>...</td>\n",
       "      <td>...</td>\n",
       "      <td>...</td>\n",
       "      <td>...</td>\n",
       "    </tr>\n",
       "    <tr>\n",
       "      <th>2465</th>\n",
       "      <td>0.728186</td>\n",
       "      <td>1.780958</td>\n",
       "      <td>2.998783</td>\n",
       "      <td>7.238208</td>\n",
       "      <td>3.184408</td>\n",
       "      <td>-0.698908</td>\n",
       "      <td>-0.943495</td>\n",
       "      <td>-1.542005</td>\n",
       "      <td>0.194109</td>\n",
       "      <td>0.528008</td>\n",
       "      <td>0.501233</td>\n",
       "      <td>0.741934</td>\n",
       "    </tr>\n",
       "    <tr>\n",
       "      <th>2348</th>\n",
       "      <td>5.778626</td>\n",
       "      <td>2.809611</td>\n",
       "      <td>5.903978</td>\n",
       "      <td>9.844730</td>\n",
       "      <td>3.712160</td>\n",
       "      <td>-0.715264</td>\n",
       "      <td>-1.895437</td>\n",
       "      <td>-1.101458</td>\n",
       "      <td>0.102087</td>\n",
       "      <td>0.669321</td>\n",
       "      <td>0.666608</td>\n",
       "      <td>0.309198</td>\n",
       "    </tr>\n",
       "    <tr>\n",
       "      <th>3210</th>\n",
       "      <td>1.462759</td>\n",
       "      <td>7.783556</td>\n",
       "      <td>7.941150</td>\n",
       "      <td>5.681834</td>\n",
       "      <td>4.011562</td>\n",
       "      <td>-1.082559</td>\n",
       "      <td>-1.808980</td>\n",
       "      <td>-1.120023</td>\n",
       "      <td>0.208220</td>\n",
       "      <td>0.822709</td>\n",
       "      <td>0.750304</td>\n",
       "      <td>0.324480</td>\n",
       "    </tr>\n",
       "    <tr>\n",
       "      <th>635</th>\n",
       "      <td>1.994402</td>\n",
       "      <td>3.467408</td>\n",
       "      <td>5.691771</td>\n",
       "      <td>1.674242</td>\n",
       "      <td>4.485980</td>\n",
       "      <td>-1.897994</td>\n",
       "      <td>-1.104547</td>\n",
       "      <td>-1.483439</td>\n",
       "      <td>0.296390</td>\n",
       "      <td>0.715735</td>\n",
       "      <td>0.155575</td>\n",
       "      <td>0.183378</td>\n",
       "    </tr>\n",
       "    <tr>\n",
       "      <th>6864</th>\n",
       "      <td>9.920589</td>\n",
       "      <td>9.458358</td>\n",
       "      <td>3.131177</td>\n",
       "      <td>9.739425</td>\n",
       "      <td>3.560438</td>\n",
       "      <td>-0.901105</td>\n",
       "      <td>-1.163402</td>\n",
       "      <td>-1.495931</td>\n",
       "      <td>0.570400</td>\n",
       "      <td>0.152103</td>\n",
       "      <td>0.315979</td>\n",
       "      <td>0.549744</td>\n",
       "    </tr>\n",
       "  </tbody>\n",
       "</table>\n",
       "<p>5792 rows × 12 columns</p>\n",
       "</div>"
      ],
      "text/plain": [
       "          tau1      tau2      tau3      tau4        p1        p2        p3  \\\n",
       "4102  9.897265  3.637844  4.290065  8.607478  3.246692 -1.540617 -0.733605   \n",
       "3474  2.070262  8.889857  0.763238  3.996454  4.445607 -1.543882 -1.291089   \n",
       "3725  9.693446  1.066761  2.037479  6.998890  2.513678 -0.619724 -0.502285   \n",
       "8591  1.070637  2.745811  6.046178  5.416654  4.823958 -1.867970 -1.373601   \n",
       "8230  3.245934  8.360463  4.398206  9.632935  3.315526 -0.730478 -0.797694   \n",
       "...        ...       ...       ...       ...       ...       ...       ...   \n",
       "2465  0.728186  1.780958  2.998783  7.238208  3.184408 -0.698908 -0.943495   \n",
       "2348  5.778626  2.809611  5.903978  9.844730  3.712160 -0.715264 -1.895437   \n",
       "3210  1.462759  7.783556  7.941150  5.681834  4.011562 -1.082559 -1.808980   \n",
       "635   1.994402  3.467408  5.691771  1.674242  4.485980 -1.897994 -1.104547   \n",
       "6864  9.920589  9.458358  3.131177  9.739425  3.560438 -0.901105 -1.163402   \n",
       "\n",
       "            p4        g1        g2        g3        g4  \n",
       "4102 -0.972470  0.514474  0.454052  0.888528  0.577343  \n",
       "3474 -1.610636  0.712355  0.741182  0.259698  0.534352  \n",
       "3725 -1.391670  0.873912  0.692020  0.629985  0.347777  \n",
       "8591 -1.582387  0.817517  0.340912  0.521898  0.120164  \n",
       "8230 -1.787354  0.540724  0.485303  0.232032  0.413867  \n",
       "...        ...       ...       ...       ...       ...  \n",
       "2465 -1.542005  0.194109  0.528008  0.501233  0.741934  \n",
       "2348 -1.101458  0.102087  0.669321  0.666608  0.309198  \n",
       "3210 -1.120023  0.208220  0.822709  0.750304  0.324480  \n",
       "635  -1.483439  0.296390  0.715735  0.155575  0.183378  \n",
       "6864 -1.495931  0.570400  0.152103  0.315979  0.549744  \n",
       "\n",
       "[5792 rows x 12 columns]"
      ]
     },
     "execution_count": 16,
     "metadata": {},
     "output_type": "execute_result"
    }
   ],
   "source": [
    "x_train"
   ]
  },
  {
   "cell_type": "code",
   "execution_count": 17,
   "metadata": {},
   "outputs": [],
   "source": [
    "from sklearn.metrics import confusion_matrix, accuracy_score, f1_score, precision_score, recall_score"
   ]
  },
  {
   "cell_type": "code",
   "execution_count": 18,
   "metadata": {},
   "outputs": [
    {
     "name": "stdout",
     "output_type": "stream",
     "text": [
      "Accuracy score using random forest:  0.9081491712707183\n"
     ]
    }
   ],
   "source": [
    "from sklearn.ensemble import RandomForestClassifier\n",
    "RFC = RandomForestClassifier()\n",
    "RFC.fit(x_normalized_train_df, y_train)\n",
    "y_pred = RFC.predict(x_normalized_test_df)\n",
    "acc = accuracy_score(y_true=y_test,y_pred=RFC.predict(x_normalized_test_df))\n",
    "print('Accuracy score using random forest: ', acc)"
   ]
  },
  {
   "cell_type": "code",
   "execution_count": 19,
   "metadata": {},
   "outputs": [
    {
     "name": "stdout",
     "output_type": "stream",
     "text": [
      "Confusion matrix using random forest:  [[686  30]\n",
      " [103 629]]\n"
     ]
    }
   ],
   "source": [
    "cm = confusion_matrix(y_true=y_test, y_pred=RFC.predict(x_normalized_test_df))\n",
    "print('Confusion matrix using random forest: ', cm)"
   ]
  },
  {
   "cell_type": "code",
   "execution_count": 20,
   "metadata": {},
   "outputs": [
    {
     "name": "stdout",
     "output_type": "stream",
     "text": [
      "Precision score using random forest:  0.8694550063371356\n"
     ]
    }
   ],
   "source": [
    "pre = precision_score(y_true=y_test, y_pred=RFC.predict(x_normalized_test_df), pos_label='stable')\n",
    "print('Precision score using random forest: ', pre)"
   ]
  },
  {
   "cell_type": "code",
   "execution_count": 21,
   "metadata": {},
   "outputs": [
    {
     "name": "stdout",
     "output_type": "stream",
     "text": [
      "Accuracy score using Extra Tree Classifier:  0.9095303867403315\n"
     ]
    }
   ],
   "source": [
    "from sklearn.ensemble import ExtraTreesClassifier\n",
    "ETC = ExtraTreesClassifier()\n",
    "ETC.fit(x_normalized_train_df, y_train) \n",
    "y_pred1 = ETC.predict(x_normalized_test_df)\n",
    "acc1 = accuracy_score(y_true=y_test, y_pred=ETC.predict(x_normalized_test_df))\n",
    "print('Accuracy score using Extra Tree Classifier: ', acc1)"
   ]
  },
  {
   "cell_type": "code",
   "execution_count": 22,
   "metadata": {},
   "outputs": [
    {
     "name": "stdout",
     "output_type": "stream",
     "text": [
      "Confusion matrix using Extra Tree Classifier:  [[687  29]\n",
      " [102 630]]\n"
     ]
    }
   ],
   "source": [
    "cm_1 = confusion_matrix(y_true=y_test, y_pred=ETC.predict(x_normalized_test_df))\n",
    "print('Confusion matrix using Extra Tree Classifier: ', cm_1)"
   ]
  },
  {
   "cell_type": "code",
   "execution_count": 23,
   "metadata": {},
   "outputs": [
    {
     "name": "stdout",
     "output_type": "stream",
     "text": [
      "Precision score using Extra Tree Classifier:  0.870722433460076\n"
     ]
    }
   ],
   "source": [
    "pre_1 = precision_score(y_true=y_test, y_pred=ETC.predict(x_normalized_test_df), pos_label='stable')\n",
    "print('Precision score using Extra Tree Classifier: ', pre_1)"
   ]
  },
  {
   "cell_type": "markdown",
   "metadata": {},
   "source": [
    "# xgboost and lightgbm"
   ]
  },
  {
   "cell_type": "code",
   "execution_count": 24,
   "metadata": {},
   "outputs": [
    {
     "name": "stdout",
     "output_type": "stream",
     "text": [
      "Accuracy score using XGBoost:  0.9343922651933702\n",
      "Accuracy score using XGBoost:  93.44\n"
     ]
    }
   ],
   "source": [
    "from xgboost import XGBClassifier\n",
    "XGB = XGBClassifier()\n",
    "XGB.fit(x_normalized_train_df, y_train)\n",
    "y_pred = XGB.predict(x_normalized_test_df)\n",
    "xgb_score = accuracy_score(y_test, y_pred)\n",
    "print('Accuracy score using XGBoost: ', xgb_score)\n",
    "print('Accuracy score using XGBoost: ', round((xgb_score*100), 2))"
   ]
  },
  {
   "cell_type": "code",
   "execution_count": 25,
   "metadata": {},
   "outputs": [
    {
     "name": "stdout",
     "output_type": "stream",
     "text": [
      "Accuracy score using lightgbm:  0.9261049723756906\n",
      "Accuracy score using lightgbm:  92.61\n"
     ]
    }
   ],
   "source": [
    "from lightgbm import LGBMClassifier\n",
    "Lgb = LGBMClassifier()\n",
    "Lgb.fit(x_normalized_train_df, y_train)\n",
    "y_pred = Lgb.predict(x_normalized_test_df)\n",
    "lgb_score = accuracy_score(y_test, y_pred)\n",
    "print('Accuracy score using lightgbm: ', lgb_score)\n",
    "print('Accuracy score using lightgbm: ', round((lgb_score*100), 2))"
   ]
  },
  {
   "cell_type": "code",
   "execution_count": 34,
   "metadata": {},
   "outputs": [
    {
     "name": "stdout",
     "output_type": "stream",
     "text": [
      "Fitting 5 folds for each of 10 candidates, totalling 50 fits\n"
     ]
    },
    {
     "name": "stderr",
     "output_type": "stream",
     "text": [
      "[Parallel(n_jobs=-1)]: Using backend LokyBackend with 4 concurrent workers.\n",
      "[Parallel(n_jobs=-1)]: Done  42 tasks      | elapsed:   45.6s\n",
      "[Parallel(n_jobs=-1)]: Done  50 out of  50 | elapsed:   50.9s finished\n"
     ]
    },
    {
     "data": {
      "text/plain": [
       "{'n_estimators': 300,\n",
       " 'min_samples_split': 9,\n",
       " 'min_samples_leaf': 2,\n",
       " 'max_features': 'auto'}"
      ]
     },
     "execution_count": 34,
     "metadata": {},
     "output_type": "execute_result"
    }
   ],
   "source": [
    "from sklearn.model_selection import RandomizedSearchCV\n",
    "param_grid = {'n_estimators': [50, 100, 300, 500, 1000], \n",
    "         'min_samples_split' : [2, 3, 5, 7, 9], \n",
    "         'min_samples_leaf' : [1, 2, 4, 6, 8], \n",
    "         'max_features' : ['auto', 'sqrt', 'log2', None] \n",
    "        }\n",
    "EX_search = RandomizedSearchCV(ExtraTreesClassifier(), param_grid, scoring='accuracy', cv = 5, n_iter=10, n_jobs=-1, verbose=1, random_state=1)\n",
    "EX_search.fit(x_normalized_train_df, y_train)\n",
    "EX_search.best_params_"
   ]
  },
  {
   "cell_type": "code",
   "execution_count": 27,
   "metadata": {},
   "outputs": [
    {
     "name": "stdout",
     "output_type": "stream",
     "text": [
      "Accuracy score using ExtraTree with its best parameter:  92.2\n"
     ]
    }
   ],
   "source": [
    "ETC_best = ExtraTreesClassifier(n_estimators = 500, min_samples_split = 9, min_samples_leaf = 1, max_features = 'sqrt')\n",
    "ETC_best.fit(x_normalized_train_df, y_train)\n",
    "y_pred = ETC_best.predict(x_normalized_test_df)\n",
    "ETC_best_score = accuracy_score(y_test, y_pred)\n",
    "print('Accuracy score using ExtraTree with its best parameter: ', round((ETC_best_score*100), 2))"
   ]
  },
  {
   "cell_type": "code",
   "execution_count": 33,
   "metadata": {},
   "outputs": [
    {
     "name": "stdout",
     "output_type": "stream",
     "text": [
      "Accuracy score using ExtraTree with its best parameter:  92.4\n"
     ]
    }
   ],
   "source": [
    "ETC_best = ExtraTreesClassifier(n_estimators = 300, min_samples_split = 9, min_samples_leaf = 2, max_features = 'auto')\n",
    "ETC_best.fit(x_normalized_train_df, y_train)\n",
    "y_pred = ETC_best.predict(x_normalized_test_df)\n",
    "ETC_best_score = accuracy_score(y_test, y_pred)\n",
    "print('Accuracy score using ExtraTree with its best parameter: ', round((ETC_best_score*100), 2))"
   ]
  },
  {
   "cell_type": "code",
   "execution_count": null,
   "metadata": {},
   "outputs": [],
   "source": []
  }
 ],
 "metadata": {
  "kernelspec": {
   "display_name": "Python 3",
   "language": "python",
   "name": "python3"
  },
  "language_info": {
   "codemirror_mode": {
    "name": "ipython",
    "version": 3
   },
   "file_extension": ".py",
   "mimetype": "text/x-python",
   "name": "python",
   "nbconvert_exporter": "python",
   "pygments_lexer": "ipython3",
   "version": "3.7.6"
  }
 },
 "nbformat": 4,
 "nbformat_minor": 4
}
